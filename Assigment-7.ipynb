{
 "cells": [
  {
   "cell_type": "code",
   "execution_count": null,
   "id": "e320000d",
   "metadata": {},
   "outputs": [],
   "source": [
    "#1.The feature responsible for generating Regex objects is the re.compile() function in Python's re module."
   ]
  },
  {
   "cell_type": "code",
   "execution_count": null,
   "id": "822db407",
   "metadata": {},
   "outputs": [],
   "source": [
    "#2.Raw strings often appear in Regex objects because they allow backslashes to be interpreted\n",
    "#as literal characters instead of escape characters."
   ]
  },
  {
   "cell_type": "code",
   "execution_count": null,
   "id": "0dd193c8",
   "metadata": {},
   "outputs": [],
   "source": [
    "#3. The return value of the search() method is a Match object if a match is found, and None if no match is found."
   ]
  },
  {
   "cell_type": "code",
   "execution_count": null,
   "id": "36c74394",
   "metadata": {},
   "outputs": [],
   "source": [
    "#4. From a Match item, you can get the actual strings that match the pattern using the group() method."
   ]
  },
  {
   "cell_type": "code",
   "execution_count": null,
   "id": "5263c32a",
   "metadata": {},
   "outputs": [],
   "source": [
    "#5. In the regex created from r'(\\d\\d\\d)-(\\d\\d\\d-\\d\\d\\d\\d)', group zero covers the entire string that matched the pattern,\n",
    "#group 1 covers the first set of parentheses, and group 2 covers the second set of parentheses."
   ]
  },
  {
   "cell_type": "code",
   "execution_count": null,
   "id": "6ad3c9e0",
   "metadata": {},
   "outputs": [],
   "source": [
    "#6. To fit real parentheses and periods in a regex, you can escape them using a backslash (\\)."
   ]
  },
  {
   "cell_type": "code",
   "execution_count": null,
   "id": "094a644b",
   "metadata": {},
   "outputs": [],
   "source": [
    "#7. The findall() method returns a string list when the regex has no groups, and a list of string tuples when the regex has groups."
   ]
  },
  {
   "cell_type": "code",
   "execution_count": null,
   "id": "a9c966cc",
   "metadata": {},
   "outputs": [],
   "source": [
    "#8. In standard expressions, the | character means \"or\"."
   ]
  },
  {
   "cell_type": "code",
   "execution_count": null,
   "id": "4c0eecff",
   "metadata": {},
   "outputs": [],
   "source": [
    "#9. In regular expressions, the dot character (.) stands for any single character except for a newline character (\\n)."
   ]
  },
  {
   "cell_type": "code",
   "execution_count": null,
   "id": "2f984a86",
   "metadata": {},
   "outputs": [],
   "source": [
    "#10. In regular expressions, the + character matches one or more occurrences of the preceding character or group, \n",
    "#while the * character matches zero or more occurrences of the preceding character or group."
   ]
  },
  {
   "cell_type": "code",
   "execution_count": null,
   "id": "a2a2060d",
   "metadata": {},
   "outputs": [],
   "source": [
    "#11. In regular expression syntax, {4} matches exactly four occurrences of the preceding character or group, \n",
    "#while {4,5} matches between four and five occurrences of the preceding character or group."
   ]
  },
  {
   "cell_type": "code",
   "execution_count": null,
   "id": "e6e12beb",
   "metadata": {},
   "outputs": [],
   "source": [
    "#12. In regular expressions, \\d, \\w, and \\s are shorthand character classes that match digits, \n",
    "#word characters (letters, digits, and underscores), and whitespace characters, respectively."
   ]
  },
  {
   "cell_type": "code",
   "execution_count": null,
   "id": "ad949944",
   "metadata": {},
   "outputs": [],
   "source": [
    "#13. In regular expressions, \\D, \\W, and \\S are shorthand character classes that match any character that is not a digit, \n",
    "#word character, or whitespace character, respectively."
   ]
  },
  {
   "cell_type": "code",
   "execution_count": null,
   "id": "bfb7f691",
   "metadata": {},
   "outputs": [],
   "source": [
    "#14. The .*? syntax matches any character zero or more times in a non-greedy way, \n",
    "#while the .* syntax matches any character zero or more times in a greedy way."
   ]
  },
  {
   "cell_type": "code",
   "execution_count": null,
   "id": "34a48f42",
   "metadata": {},
   "outputs": [],
   "source": [
    "#15. To match both numbers and lowercase letters with a character class, We can use [0-9a-z]."
   ]
  },
  {
   "cell_type": "code",
   "execution_count": null,
   "id": "2924b84a",
   "metadata": {},
   "outputs": [],
   "source": [
    "#16.To make a normal expression case-insensitive in regex, \n",
    "#we can pass the re.IGNORECASE flag as the second argument to the re.compile() function."
   ]
  },
  {
   "cell_type": "code",
   "execution_count": null,
   "id": "f5740baa",
   "metadata": {},
   "outputs": [],
   "source": [
    "#17. The . character normally matches any single character except for a newline character (\\n). \n",
    "#If re.DOTALL is passed as the second argument in re.compile(), \n",
    "#the . character will match any character including a newline character."
   ]
  },
  {
   "cell_type": "code",
   "execution_count": null,
   "id": "3837e8ba",
   "metadata": {},
   "outputs": [],
   "source": [
    "#18.numRegex.sub('X', '11 drummers, 10 pipers, five rings, 4 hen') \n",
    "#return the string 'X drummers, X pipers, five rings, X hen'."
   ]
  },
  {
   "cell_type": "code",
   "execution_count": null,
   "id": "c0850d7d",
   "metadata": {},
   "outputs": [],
   "source": [
    "#19. Passing re.VERBOSE as the second argument to re.compile() \n",
    "#allows you to include comments and whitespace in the regex to make it more readable without affecting the functionality."
   ]
  },
  {
   "cell_type": "code",
   "execution_count": null,
   "id": "66cf15c3",
   "metadata": {},
   "outputs": [],
   "source": [
    "#20. To match a number with a comma for every three digits, \n",
    "#we can use the regex r'^\\d{1,3}(,\\d{3})*$'."
   ]
  },
  {
   "cell_type": "code",
   "execution_count": null,
   "id": "781b739f",
   "metadata": {},
   "outputs": [],
   "source": [
    "#21.To match the full name of someone whose last name is Watanabe with a first name that begins with a capital letter, \n",
    "#we can use the regex r'[A-Z][a-z]*\\sWatanabe'."
   ]
  },
  {
   "cell_type": "code",
   "execution_count": null,
   "id": "4e426638",
   "metadata": {},
   "outputs": [],
   "source": [
    "#22.\n",
    "import re\n",
    "\n",
    "regex = re.compile(r'^(Alice|Bob|Carol)\\s+(eats|pets|throws)\\s+(apples|cats|baseballs)\\.$', re.IGNORECASE)\n"
   ]
  }
 ],
 "metadata": {
  "kernelspec": {
   "display_name": "Python 3 (ipykernel)",
   "language": "python",
   "name": "python3"
  },
  "language_info": {
   "codemirror_mode": {
    "name": "ipython",
    "version": 3
   },
   "file_extension": ".py",
   "mimetype": "text/x-python",
   "name": "python",
   "nbconvert_exporter": "python",
   "pygments_lexer": "ipython3",
   "version": "3.9.13"
  }
 },
 "nbformat": 4,
 "nbformat_minor": 5
}
